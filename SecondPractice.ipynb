{
 "cells": [
  {
   "cell_type": "code",
   "execution_count": null,
   "id": "92bc5538-2a31-4b2f-8a1c-e1b8a1205b13",
   "metadata": {},
   "outputs": [],
   "source": [
    "Произведем анализ при помощи sklearn, для сравнения их с полученными данными без использования сторонних библиотек кроме numpy."
   ]
  },
  {
   "cell_type": "code",
   "execution_count": 1,
   "id": "3f08a44d-aaa6-4572-8d85-2f14aaf0069d",
   "metadata": {},
   "outputs": [
    {
     "name": "stdout",
     "output_type": "stream",
     "text": [
      "              precision    recall  f1-score   support\n",
      "\n",
      "         Cat       0.31      0.67      0.42         6\n",
      "        Fish       0.80      0.40      0.53        10\n",
      "         Hen       0.86      0.67      0.75         9\n",
      "\n",
      "    accuracy                           0.56        25\n",
      "   macro avg       0.65      0.58      0.57        25\n",
      "weighted avg       0.70      0.56      0.58        25\n",
      "\n"
     ]
    }
   ],
   "source": [
    "from sklearn.metrics import classification_report\n",
    "\n",
    "y_true = ['Cat', 'Cat', 'Cat', 'Cat', 'Cat', 'Cat', 'Fish', 'Fish', 'Fish', 'Fish', 'Fish', 'Fish', 'Fish', 'Fish', 'Fish', 'Fish', 'Hen', 'Hen', 'Hen', 'Hen', 'Hen', 'Hen', 'Hen', 'Hen', 'Hen']\n",
    "y_pred = ['Cat', 'Cat', 'Cat', 'Cat', 'Hen', 'Fish', 'Cat', 'Cat', 'Cat', 'Cat', 'Cat', 'Cat', 'Fish', 'Fish', 'Fish', 'Fish', 'Cat', 'Cat', 'Cat', 'Hen', 'Hen', 'Hen', 'Hen', 'Hen', 'Hen']\n",
    "\n",
    "report = classification_report(y_true, y_pred)\n",
    "\n",
    "print(report)"
   ]
  },
  {
   "cell_type": "code",
   "execution_count": 14,
   "id": "846bb1f5-6097-47a5-aef2-279ab039c456",
   "metadata": {},
   "outputs": [
    {
     "name": "stdout",
     "output_type": "stream",
     "text": [
      "macro avg: precision=0.65 recall=0.58 f1-score=0.57\n",
      "weighted avg: precision=0.56 recall=0.56 f1-score=0.54\n"
     ]
    }
   ],
   "source": [
    "import numpy as np\n",
    "\n",
    "# истинные значения \n",
    "y_true = ['Cat', 'Cat', 'Cat', 'Cat', 'Cat', 'Cat', 'Fish', 'Fish', 'Fish', 'Fish', 'Fish', 'Fish', 'Fish', 'Fish', 'Fish', 'Fish', 'Hen', 'Hen', 'Hen', 'Hen', 'Hen', 'Hen', 'Hen', 'Hen', 'Hen']\n",
    "#результат системы \n",
    "y_pred = ['Cat', 'Cat', 'Cat', 'Cat', 'Hen', 'Fish', 'Cat', 'Cat', 'Cat', 'Cat', 'Cat', 'Cat', 'Fish', 'Fish', 'Fish', 'Fish', 'Cat', 'Cat', 'Cat', 'Hen', 'Hen', 'Hen', 'Hen', 'Hen', 'Hen']\n",
    "\n",
    "# создаем матрицу ошибок\n",
    "labels = ['Cat', 'Fish', 'Hen']\n",
    "confusion_matrix = np.zeros((3, 3))\n",
    "for true, pred in zip(y_true, y_pred):\n",
    "    i = labels.index(true)\n",
    "    j = labels.index(pred)\n",
    "    confusion_matrix[i, j] += 1\n",
    "\n",
    "# вычисляем метрики для каждого класса\n",
    "precision = {}\n",
    "recall = {}\n",
    "f1_score = {}\n",
    "for i, label in enumerate(labels):\n",
    "    tp = confusion_matrix[i, i]\n",
    "    fp = sum(confusion_matrix[:, i]) - tp\n",
    "    fn = sum(confusion_matrix[i, :]) - tp\n",
    "    precision[label] = tp / (tp + fp)\n",
    "    recall[label] = tp / (tp + fn)\n",
    "    f1_score[label] = 2 * precision[label] * recall[label] / (precision[label] + recall[label])\n",
    "\n",
    "# вычисляем макро-усредненные метрики\n",
    "macro_precision = sum(precision.values()) / len(precision)\n",
    "macro_recall = sum(recall.values()) / len(recall)\n",
    "macro_f1_score = sum(f1_score.values()) / len(f1_score)\n",
    "\n",
    "# вычисляем взвешенные метрики\n",
    "support = sum(sum(confusion_matrix))\n",
    "weighted_precision = sum(precision[l] * sum(confusion_matrix[:, i]) / support for i, l in enumerate(labels))\n",
    "weighted_recall = sum(recall[l] * sum(confusion_matrix[i, :]) / support for i, l in enumerate(labels))\n",
    "weighted_f1_score = sum(f1_score[l] * sum(confusion_matrix[:, i]) / support for i, l in enumerate(labels))\n",
    "\n",
    "# выводим результаты\n",
    "print('macro avg: precision={:.2f} recall={:.2f} f1-score={:.2f}'.format(macro_precision, macro_recall, macro_f1_score))\n",
    "print('weighted avg: precision={:.2f} recall={:.2f} f1-score={:.2f}'.format(weighted_precision, weighted_recall, weighted_f1_score))"
   ]
  },
  {
   "cell_type": "code",
   "execution_count": null,
   "id": "8a49c892-e491-48af-afcc-2d065376d206",
   "metadata": {},
   "outputs": [],
   "source": []
  }
 ],
 "metadata": {
  "kernelspec": {
   "display_name": "Python 3 (ipykernel)",
   "language": "python",
   "name": "python3"
  },
  "language_info": {
   "codemirror_mode": {
    "name": "ipython",
    "version": 3
   },
   "file_extension": ".py",
   "mimetype": "text/x-python",
   "name": "python",
   "nbconvert_exporter": "python",
   "pygments_lexer": "ipython3",
   "version": "3.11.4"
  }
 },
 "nbformat": 4,
 "nbformat_minor": 5
}
